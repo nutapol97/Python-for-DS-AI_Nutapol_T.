{
  "nbformat": 4,
  "nbformat_minor": 0,
  "metadata": {
    "colab": {
      "name": "AdaBoost.ipynb",
      "provenance": [],
      "authorship_tag": "ABX9TyM6qFm+2BtvhRaLaWN/Xi18",
      "include_colab_link": true
    },
    "kernelspec": {
      "name": "python3",
      "display_name": "Python 3"
    },
    "language_info": {
      "name": "python"
    }
  },
  "cells": [
    {
      "cell_type": "markdown",
      "metadata": {
        "id": "view-in-github",
        "colab_type": "text"
      },
      "source": [
        "<a href=\"https://colab.research.google.com/github/nutapol97/Python-for-DS-AI_Nutapol_T./blob/main/AdaBoost.ipynb\" target=\"_parent\"><img src=\"https://colab.research.google.com/assets/colab-badge.svg\" alt=\"Open In Colab\"/></a>"
      ]
    },
    {
      "cell_type": "code",
      "metadata": {
        "id": "5YAYNsjL5Nyz"
      },
      "source": [
        "from sklearn.datasets import make_moons\n",
        "import numpy as np\n",
        "import matplotlib.pyplot as plt\n",
        "from sklearn.datasets import make_classification\n",
        "from sklearn.metrics import accuracy_score\n",
        "from sklearn.tree import DecisionTreeClassifier\n",
        "from sklearn.metrics import classification_report\n",
        "from sklearn.model_selection import train_test_split\n",
        "def train_test(X,Y,size):\n",
        "  from numpy.random import default_rng\n",
        "  rng = default_rng()\n",
        "  SizeTrain=int((size*X.shape[0]))\n",
        "  random_np=rng.choice(X.shape[0], size=SizeTrain, replace=False)\n",
        "  X_test=X[random_np,:]\n",
        "  y_test=Y[random_np,]\n",
        "  Y_train=np.delete(Y, random_np,axis=0)\n",
        "  X_train=np.delete(X, random_np,axis=0)\n",
        "  Y_train=Y_train.reshape(Y_train.shape[0],)\n",
        "  y_test=y_test.reshape(y_test.shape[0],)\n",
        "  return X_train,X_test,Y_train,y_test"
      ],
      "execution_count": 26,
      "outputs": []
    },
    {
      "cell_type": "code",
      "metadata": {
        "id": "kY0gS8UV5Q8t"
      },
      "source": [
        "X, y = make_classification(n_samples=500)\n",
        "y = np.where(y==0,-1,1) \n",
        "X_train, X_test, y_train, y_test = train_test(X, y, 0.3)\n",
        "\n",
        "#X_train, X_test, y_train, y_test = train_test_split(X, y, test_size=0.3, random_state=42)"
      ],
      "execution_count": 24,
      "outputs": []
    },
    {
      "cell_type": "code",
      "metadata": {
        "colab": {
          "base_uri": "https://localhost:8080/"
        },
        "id": "hG3SvSw25SF7",
        "outputId": "867baf6b-5c04-4f3d-a080-7f56bcfdabb4"
      },
      "source": [
        "class DecisionStump():\n",
        "    def __init__(self):\n",
        "        self.po = 1\n",
        "        self.feature_index = None\n",
        "        self.threshold = None\n",
        "        self.alpha = None\n",
        "class AdaBoost():\n",
        "    def __init__(self, S=5, eta=0.5):\n",
        "        self.S = S\n",
        "        self.eta = eta\n",
        "    def fit(self, X, y):\n",
        "      self.clfs = []\n",
        "      m, n = X.shape\n",
        "      W = np.full(m, 1/m)\n",
        "      for _ in range(self.S):\n",
        "          clf = DecisionStump()\n",
        "          min_err = np.inf\n",
        "      for feature in range(n):\n",
        "                f_vals = np.sort(np.unique(X[:, feature]))\n",
        "                th = (f_vals[:-1] + f_vals[1:])/2\n",
        "                for threshold in th:\n",
        "                    for po in [1, -1]:\n",
        "                        yhat = np.ones(len(y)) \n",
        "                        yhat[po * X[:, feature] < po * threshold] = -1  \n",
        "                        err = W[(yhat != y)].sum()\n",
        "                        if err < min_err:\n",
        "                            clf.po = po\n",
        "                            clf.threshold = threshold\n",
        "                            clf.feature_index = feature\n",
        "                            min_err = err\n",
        "      eps = 1e-10 \n",
        "      clf.alpha = self.eta * (np.log ((1 - min_err) / (min_err + eps)))            \n",
        "      W = W * np.exp(-clf.alpha * y * yhat)\n",
        "      W = W / sum (W)\n",
        "      self.clfs.append(clf)\n",
        "\n",
        "    def predict(self, X):\n",
        "        m, n = X.shape\n",
        "        yhat = np.zeros(m)\n",
        "        for clf in self.clfs:\n",
        "            pred = np.ones(m) \n",
        "            pred[clf.po * X[:, clf.feature_index] < clf.po * clf.threshold] = -1  \n",
        "            yhat += clf.alpha * pred\n",
        "        return np.sign(yhat)          \n",
        "\n",
        "\n",
        "model = AdaBoost(S=20)\n",
        "model.fit(X_train, y_train)\n",
        "yhat = model.predict(X_test)\n",
        "print(classification_report(y_test, yhat))"
      ],
      "execution_count": 25,
      "outputs": [
        {
          "output_type": "stream",
          "name": "stdout",
          "text": [
            "              precision    recall  f1-score   support\n",
            "\n",
            "          -1       0.89      0.81      0.85        72\n",
            "           1       0.84      0.91      0.87        78\n",
            "\n",
            "    accuracy                           0.86       150\n",
            "   macro avg       0.86      0.86      0.86       150\n",
            "weighted avg       0.86      0.86      0.86       150\n",
            "\n"
          ]
        }
      ]
    }
  ]
}