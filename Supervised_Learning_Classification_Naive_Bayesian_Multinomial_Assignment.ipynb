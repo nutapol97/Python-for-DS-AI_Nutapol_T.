{
  "nbformat": 4,
  "nbformat_minor": 0,
  "metadata": {
    "colab": {
      "name": "Supervised Learning - Classification - Naive Bayesian - Multinomial Assignment.ipynb",
      "provenance": [],
      "authorship_tag": "ABX9TyPXyNBc7Bf1C62BOARJ4Ob7",
      "include_colab_link": true
    },
    "kernelspec": {
      "name": "python3",
      "display_name": "Python 3"
    },
    "language_info": {
      "name": "python"
    }
  },
  "cells": [
    {
      "cell_type": "markdown",
      "metadata": {
        "id": "view-in-github",
        "colab_type": "text"
      },
      "source": [
        "<a href=\"https://colab.research.google.com/github/nutapol97/Python-for-DS-AI_Nutapol_T./blob/main/Supervised_Learning_Classification_Naive_Bayesian_Multinomial_Assignment.ipynb\" target=\"_parent\"><img src=\"https://colab.research.google.com/assets/colab-badge.svg\" alt=\"Open In Colab\"/></a>"
      ]
    },
    {
      "cell_type": "code",
      "metadata": {
        "id": "fX5Z7CZ2XrnB"
      },
      "source": [
        "import numpy as np\n",
        "import matplotlib.pyplot as plt\n",
        "import seaborn as sns\n",
        "from sklearn.feature_extraction.text import CountVectorizer, TfidfVectorizer\n",
        "from sklearn.preprocessing import label_binarize\n",
        "from sklearn.metrics import average_precision_score, classification_report\n",
        "from sklearn.metrics import confusion_matrix\n",
        "from sklearn.metrics import confusion_matrix\n",
        "class Naive_Bayesian_Multinomial():\n",
        "  def __init__(self,method='CountVectorizer'):\n",
        "    self.method=method\n",
        "    \n",
        "  def data_transformation(self,train,test):\n",
        "      if self.method =='CountVectorizer':\n",
        "        vectorizer = CountVectorizer()\n",
        "        print('model is : {}'.format(self.method))\n",
        "      if self.method =='TFIDVectorizer':\n",
        "        vectorizer = TfidfVectorizer()\n",
        "        print('model is : {}'.format(self.method))\n",
        "      if self.method != 'CountVectorizer' and self.method !='TFIDVectorizer':\n",
        "        raise ValueError('Method must be \"CountVectorizer\" or \"TFidVectorizer\"')      \n",
        "      X_train = vectorizer.fit_transform(train.data)\n",
        "      X_test = vectorizer.transform(test.data)\n",
        "      X_test = X_test.toarray()\n",
        "      y_train = train.target\n",
        "      y_test = test.target\n",
        "      return X_train,X_test,y_train,y_test\n",
        "  def likelihood(self,X_class, laplace=1):\n",
        "    return ((X_class.sum(axis=0)) + laplace) / (np.sum(X_class.sum(axis=0) + laplace))\n",
        "  \n",
        "  def prior(self,X_class, m):\n",
        "      return X_class.shape[0] / m\n",
        "  \n",
        "  def predict(self,X_test, priors, likelihoods):\n",
        "    log_priors=np.log(priors)\n",
        "    next=X_test @ np.log(likelihoods.T)\n",
        "    pre=log_priors + next\n",
        "    return pre\n",
        "  \n",
        "\n",
        "  def fit(self,X_train, y_train):\n",
        "    \n",
        "    m, n = X_train.shape\n",
        "    classes = np.unique(y_train)  #list of class\n",
        "    k = len(classes) #number of class\n",
        "    \n",
        "    priors = np.zeros(k) #prior for each classes\n",
        "    likelihoods = np.zeros((k, n)) #likehood for each class of each feature\n",
        "    \n",
        "    for idx, label in enumerate(classes):\n",
        "        X_train_c = X_train[y_train==label]\n",
        "        priors[idx] = self.prior(X_train_c, m)\n",
        "        likelihoods[idx, :] = self.likelihood(X_train_c)\n",
        "    return priors, likelihoods\n",
        "  def report(self,y_test,yhat):\n",
        "    n_classes = len(np.unique(y_test))\n",
        "    print('model is : {}'.format(self.method))\n",
        "    print(\"Accuracy: \", np.sum(yhat == y_test)/len(y_test))\n",
        "    print(\"=========Average precision score=======\")\n",
        "    y_test_binarized = label_binarize(y_test, classes=[0, 1, 2, 3])\n",
        "    yhat_binarized = label_binarize(yhat, classes=[0, 1, 2, 3])\n",
        "    for i in range(n_classes):\n",
        "       class_score = average_precision_score(y_test_binarized[:, i], yhat_binarized[:, i])\n",
        "       print(f\"Class {i} score: \", class_score)\n",
        "    print(\"=========Classification report=======\")\n",
        "    print(\"Report: \", classification_report(y_test, yhat))\n",
        "\n",
        "  def chart(self,y_test,yhat):\n",
        "    mat = confusion_matrix(y_test, yhat)\n",
        "    sns.heatmap(mat.T, annot=True, fmt=\"d\",\n",
        "           xticklabels=train.target_names, yticklabels=train.target_names)\n",
        "    plt.xlabel('true')\n",
        "    plt.ylabel('predicted')\n",
        "    \n",
        "\n"
      ],
      "execution_count": 2,
      "outputs": []
    },
    {
      "cell_type": "code",
      "metadata": {
        "colab": {
          "base_uri": "https://localhost:8080/"
        },
        "id": "0bwimQ2LXzdD",
        "outputId": "522e0c0d-2d0a-45a3-d937-33fd31ebb690"
      },
      "source": [
        "from sklearn.datasets import fetch_20newsgroups\n",
        "data = fetch_20newsgroups()\n",
        "data.target_names\n",
        "categories = ['talk.religion.misc', 'soc.religion.christian',\n",
        "              'sci.space', 'comp.graphics']\n",
        "train = fetch_20newsgroups(subset='train', categories=categories)\n",
        "test = fetch_20newsgroups(subset='test', categories=categories)\n"
      ],
      "execution_count": 3,
      "outputs": [
        {
          "output_type": "stream",
          "text": [
            "Downloading 20news dataset. This may take a few minutes.\n",
            "Downloading dataset from https://ndownloader.figshare.com/files/5975967 (14 MB)\n"
          ],
          "name": "stderr"
        }
      ]
    },
    {
      "cell_type": "code",
      "metadata": {
        "colab": {
          "base_uri": "https://localhost:8080/"
        },
        "id": "WTPcu_QjX46S",
        "outputId": "606e417c-0182-4d1f-b8af-fb1448f65e6c"
      },
      "source": [
        "model=Naive_Bayesian_Multinomial(method='TFIDVectorizer')\n",
        "X_train,X_test,y_train,y_test=model.data_transformation(train,test)\n",
        "priors, likelihoods = model.fit(X_train,y_train)"
      ],
      "execution_count": 4,
      "outputs": [
        {
          "output_type": "stream",
          "text": [
            "model is : TFIDVectorizer\n"
          ],
          "name": "stdout"
        }
      ]
    },
    {
      "cell_type": "code",
      "metadata": {
        "colab": {
          "base_uri": "https://localhost:8080/",
          "height": 711
        },
        "id": "YBGPVmF_YJ7_",
        "outputId": "51d31aae-0cef-42cf-df82-67464b8fc5b3"
      },
      "source": [
        "yhat = model.predict(X_test, priors, likelihoods)\n",
        "yhat = np.argmax(yhat, axis=1)\n",
        "model.report(y_test,yhat)\n",
        "model.chart(y_test,yhat)"
      ],
      "execution_count": 6,
      "outputs": [
        {
          "output_type": "stream",
          "text": [
            "model is : TFIDVectorizer\n",
            "Accuracy:  0.8016759776536313\n",
            "=========Average precision score=======\n",
            "Class 0 score:  0.888341920518241\n",
            "Class 1 score:  0.8744630809734135\n",
            "Class 2 score:  0.6122064043881043\n",
            "Class 3 score:  0.332994836297269\n",
            "=========Classification report=======\n",
            "Report:                precision    recall  f1-score   support\n",
            "\n",
            "           0       0.97      0.88      0.92       389\n",
            "           1       0.92      0.92      0.92       394\n",
            "           2       0.62      0.98      0.76       398\n",
            "           3       1.00      0.19      0.32       251\n",
            "\n",
            "    accuracy                           0.80      1432\n",
            "   macro avg       0.88      0.75      0.73      1432\n",
            "weighted avg       0.86      0.80      0.77      1432\n",
            "\n"
          ],
          "name": "stdout"
        },
        {
          "output_type": "display_data",
          "data": {
            "image/png": "[encoded data removed]",
            "text/plain": [
              "<Figure size 432x288 with 2 Axes>"
            ]
          },
          "metadata": {
            "needs_background": "light"
          }
        }
      ]
    },
    {
      "cell_type": "code",
      "metadata": {
        "colab": {
          "base_uri": "https://localhost:8080/"
        },
        "id": "DdpLAWt3YRmG",
        "outputId": "4ba3577a-f552-46e5-89c2-e6b59349b344"
      },
      "source": [
        "model=Naive_Bayesian_Multinomial(method='CountVectorizer')\n",
        "X_train,X_test,y_train,y_test=model.data_transformation(train,test)\n",
        "priors, likelihoods = model.fit(X_train,y_train)"
      ],
      "execution_count": 9,
      "outputs": [
        {
          "output_type": "stream",
          "text": [
            "model is : CountVectorizer\n"
          ],
          "name": "stdout"
        }
      ]
    },
    {
      "cell_type": "code",
      "metadata": {
        "colab": {
          "base_uri": "https://localhost:8080/",
          "height": 711
        },
        "id": "Jd7l3ZT6YYzj",
        "outputId": "86285646-4fad-4eb2-9784-2e9f976e139c"
      },
      "source": [
        "yhat = model.predict(X_test, priors, likelihoods)\n",
        "yhat = np.argmax(yhat, axis=1)\n",
        "model.report(y_test,yhat)\n",
        "model.chart(y_test,yhat)"
      ],
      "execution_count": 10,
      "outputs": [
        {
          "output_type": "stream",
          "text": [
            "model is : CountVectorizer\n",
            "Accuracy:  0.9168994413407822\n",
            "=========Average precision score=======\n",
            "Class 0 score:  0.9152047938418233\n",
            "Class 1 score:  0.9069918620723723\n",
            "Class 2 score:  0.8429395016564877\n",
            "Class 3 score:  0.7277310085946386\n",
            "=========Classification report=======\n",
            "Report:                precision    recall  f1-score   support\n",
            "\n",
            "           0       0.95      0.95      0.95       389\n",
            "           1       0.94      0.96      0.95       394\n",
            "           2       0.87      0.95      0.91       398\n",
            "           3       0.92      0.74      0.82       251\n",
            "\n",
            "    accuracy                           0.92      1432\n",
            "   macro avg       0.92      0.90      0.91      1432\n",
            "weighted avg       0.92      0.92      0.92      1432\n",
            "\n"
          ],
          "name": "stdout"
        },
        {
          "output_type": "display_data",
          "data": {
            "image/png": "[encoded data removed]",
            "text/plain": [
              "<Figure size 432x288 with 2 Axes>"
            ]
          },
          "metadata": {
            "needs_background": "light"
          }
        }
      ]
    }
  ]
}