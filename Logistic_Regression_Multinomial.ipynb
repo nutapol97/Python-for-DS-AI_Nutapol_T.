{
  "nbformat": 4,
  "nbformat_minor": 0,
  "metadata": {
    "colab": {
      "name": "Logistic Regression Multinomial.ipynb",
      "provenance": [],
      "authorship_tag": "ABX9TyMhYILoqgVgZHvIvQ1SSdUw",
      "include_colab_link": true
    },
    "kernelspec": {
      "name": "python3",
      "display_name": "Python 3"
    },
    "language_info": {
      "name": "python"
    }
  },
  "cells": [
    {
      "cell_type": "markdown",
      "metadata": {
        "id": "view-in-github",
        "colab_type": "text"
      },
      "source": [
        "<a href=\"https://colab.research.google.com/github/nutapol97/Python-for-DS-AI_Nutapol_T./blob/main/Logistic_Regression_Multinomial.ipynb\" target=\"_parent\"><img src=\"https://colab.research.google.com/assets/colab-badge.svg\" alt=\"Open In Colab\"/></a>"
      ]
    },
    {
      "cell_type": "code",
      "metadata": {
        "id": "kjVcsf5q5e0o"
      },
      "source": [
        "from sklearn.datasets import load_boston\n",
        "from sklearn.preprocessing import StandardScaler\n",
        "from sklearn.model_selection import train_test_split\n",
        "import numpy as np\n",
        "from time import time\n",
        "import math,random\n",
        "from numpy.random import default_rng\n",
        "from sklearn import datasets\n",
        "from sklearn.preprocessing import StandardScaler\n",
        "from sklearn.model_selection import train_test_split\n",
        "from sklearn.metrics import classification_report\n",
        "import matplotlib.pyplot as plt\n"
      ],
      "execution_count": 1,
      "outputs": []
    },
    {
      "cell_type": "code",
      "metadata": {
        "id": "3z8Srd5f5kKR"
      },
      "source": [
        "#Step 1: Prepare data\n",
        "iris = datasets.load_iris()\n",
        "X = iris.data[:, 2:] \n",
        "y = iris.target\n",
        "\n",
        "scaler = StandardScaler()\n",
        "X = scaler.fit_transform(X)\n",
        "def train_test(X,Y,size):\n",
        "  rng = default_rng()\n",
        "  SizeTrain=int((size*X.shape[0]))\n",
        " \n",
        "  random_np=rng.choice(X.shape[0], size=SizeTrain, replace=False)\n",
        "  X_test=X[random_np,:]\n",
        "  y_test=Y[random_np]\n",
        "  Y_train=np.delete(Y, random_np,axis=0)\n",
        "  X_train=np.delete(X, random_np,axis=0)\n",
        "  return X_train,X_test,Y_train,y_test\n",
        "\n",
        "\n",
        "X_train, X_test, Y_train, Y_test = train_test(X, y,0.3)\n",
        "\n",
        "intercept = np.ones((X_train.shape[0], 1))\n",
        "X_train   = np.concatenate((intercept, X_train), axis=1) \n",
        "\n",
        "intercept = np.ones((X_test.shape[0], 1))\n",
        "X_test    = np.concatenate((intercept, X_test), axis=1)\n"
      ],
      "execution_count": 2,
      "outputs": []
    },
    {
      "cell_type": "code",
      "metadata": {
        "id": "VQECZw7N6FXD"
      },
      "source": [
        "k = len(set(y)) \n",
        "m = X_train.shape[0]\n",
        "n = X_train.shape[1]\n",
        "Y_train_encoded = np.zeros((m, k))\n",
        "\n",
        "for each_class in range(k):\n",
        "    cond = Y_train==each_class\n",
        "    Y_train_encoded[np.where(cond), each_class] = 1"
      ],
      "execution_count": 3,
      "outputs": []
    },
    {
      "cell_type": "code",
      "metadata": {
        "colab": {
          "base_uri": "https://localhost:8080/",
          "height": 374
        },
        "id": "8JlkwMfk6TRx",
        "outputId": "49664b95-4133-41aa-d213-c3329e1d77d9"
      },
      "source": [
        "plt.figure(figsize=(6,6))\n",
        "plt.scatter(X[:, 0], X[:, 1], label='class 0', c=y)\n",
        "plt.show()"
      ],
      "execution_count": 4,
      "outputs": [
        {
          "output_type": "display_data",
          "data": {
            "image/png": "[encoded data removed]",
            "text/plain": [
              "<Figure size 432x432 with 1 Axes>"
            ]
          },
          "metadata": {
            "needs_background": "light"
          }
        }
      ]
    },
    {
      "cell_type": "code",
      "metadata": {
        "id": "YQtU-8ju957u"
      },
      "source": [
        "class LogisticRegression():\n",
        "  def __init__(self, alpha = 0.0001,max_iter = 20000,loss_old = 10000,\n",
        "               tol = 0.0001,method='batch',sizing=20):\n",
        "    self.alpha=alpha\n",
        "    self.max_iter=max_iter\n",
        "    self.loss_old= loss_old\n",
        "    self.tol=tol\n",
        "    self.method=method\n",
        "    self.sizing=sizing\n",
        "  def gradient(self,X, Y,W):\n",
        "    m = X.shape[0]\n",
        "    h = self.h_theta(X, W)\n",
        "    cost = - np.sum(Y * np.log(h)) / m\n",
        "    error = h - Y\n",
        "    grad = self.softmax_grad(X, error)\n",
        "    return cost, grad\n",
        "  def softmax(self,theta_t_x):\n",
        "    return np.exp(theta_t_x) / np.sum(np.exp(theta_t_x), axis=1, keepdims=True)\n",
        "  def softmax_grad(self,X, error):\n",
        "    return  X.T @ error\n",
        "  def h_theta(self,X, W):\n",
        "    return self.softmax(X @ W)\n",
        "  def plot(self):\n",
        "    plt.plot(np.arange(len(self.loss)),self.loss,label= ' Train losses')\n",
        "    plt.title('Losses')\n",
        "    plt.xlabel('epoch')\n",
        "    plt.ylabel('losses')\n",
        "  \n",
        "  \n",
        "  def mini_batch(self,X,Y):\n",
        "      rng = default_rng()     # function random not replace number\n",
        "      size_u=int(X.shape[0] * self.sizing/100)\n",
        "      random_np=rng.choice(X.shape[0], size=size_u, replace=False)\n",
        "      #random_np= np.random.randint(X_train.shape[0],size=sizing)\n",
        "      X=X[random_np,:]\n",
        "      Y=Y[random_np]\n",
        "      return X,Y\n",
        "\n",
        "  def sto(self,X,Y):\n",
        "      no_random=random.randrange(X.shape[0])\n",
        "      X=X[no_random,:]\n",
        "      \n",
        "      mx=np.shape(X)[0]\n",
        "      \n",
        "      X=X.reshape(1,mx)\n",
        "      Y=Y[no_random:no_random+1]\n",
        "      return X,Y  \n",
        "\n",
        "\n",
        "  def logistic_regression_GD(self,X_t, Y_t, k, n):\n",
        "    W = np.random.rand(n, k)\n",
        "    l_rate = 0.01\n",
        "    start = time()\n",
        "    self.loss=[]\n",
        "    if self.method != 'mini_batch' and self.method != 'sto' and self.method != 'batch':\n",
        "      raise ValueError('Out of method')\n",
        "      \n",
        "    for i in range(self.max_iter):\n",
        "      if self.method == 'mini_batch':\n",
        "        X,Y=self.mini_batch(X_t,Y_t)\n",
        "      if self.method == 'sto':\n",
        "        X,Y=self.sto(X_t,Y_t)\n",
        "      if self.method == 'batch':\n",
        "        X,Y=X_t,Y_t\n",
        "      cost, grad =  self.gradient(X, Y, W)\n",
        "      if i % 500 == 0:\n",
        "        print(f\"Cost at iteration {i}\", cost)\n",
        "      W = W - l_rate * grad\n",
        "      self.loss.append(cost)\n",
        "    time_taken = time() - start\n",
        "    print('method : {0} , Times : {1} s'.format(self.method,time_taken))\n",
        "    yhat = np.argmax(self.h_theta(X_test, W), axis=1)\n",
        "    print(\"=========Classification report=======\")\n",
        "    print(\"Report: \", classification_report(Y_test, yhat))\n",
        "    self.plot()\n",
        "    return W, i\n",
        "    \n",
        "\n",
        "  "
      ],
      "execution_count": 5,
      "outputs": []
    },
    {
      "cell_type": "code",
      "metadata": {
        "colab": {
          "base_uri": "https://localhost:8080/",
          "height": 1000
        },
        "id": "hPhEv4r2B_8S",
        "outputId": "0f084572-ec14-471a-a663-58acc7938588"
      },
      "source": [
        "model=LogisticRegression(method='batch')\n",
        "model.logistic_regression_GD(X_train, Y_train_encoded, k, X_train.shape[1])"
      ],
      "execution_count": 6,
      "outputs": [
        {
          "output_type": "stream",
          "text": [
            "Cost at iteration 0 1.1093757011284384\n",
            "Cost at iteration 500 0.06799754471275556\n",
            "Cost at iteration 1000 0.059706010338172494\n",
            "Cost at iteration 1500 0.05693002210988985\n",
            "Cost at iteration 2000 0.05562662134763629\n",
            "Cost at iteration 2500 0.05490941389821607\n",
            "Cost at iteration 3000 0.05447462695658943\n",
            "Cost at iteration 3500 0.054192515902386516\n",
            "Cost at iteration 4000 0.05399968073758808\n",
            "Cost at iteration 4500 0.053862164553111894\n",
            "Cost at iteration 5000 0.05376051993957242\n",
            "Cost at iteration 5500 0.05368302116723027\n",
            "Cost at iteration 6000 0.053622301418731526\n",
            "Cost at iteration 6500 0.05357357227945179\n",
            "Cost at iteration 7000 0.053533629769978414\n",
            "Cost at iteration 7500 0.05350027502710726\n",
            "Cost at iteration 8000 0.053471964353136406\n",
            "Cost at iteration 8500 0.0534475913322208\n",
            "Cost at iteration 9000 0.053426347608440054\n",
            "Cost at iteration 9500 0.053407631893172706\n",
            "Cost at iteration 10000 0.05339098929306008\n",
            "Cost at iteration 10500 0.05337607012190347\n",
            "Cost at iteration 11000 0.05336260147771578\n",
            "Cost at iteration 11500 0.053350367329170756\n",
            "Cost at iteration 12000 0.05333919436418965\n",
            "Cost at iteration 12500 0.053328941796881496\n",
            "Cost at iteration 13000 0.053319493930267636\n",
            "Cost at iteration 13500 0.053310754661801234\n",
            "Cost at iteration 14000 0.053302643374969205\n",
            "Cost at iteration 14500 0.05329509183117853\n",
            "Cost at iteration 15000 0.05328804179154682\n",
            "Cost at iteration 15500 0.053281443177071584\n",
            "Cost at iteration 16000 0.05327525263010669\n",
            "Cost at iteration 16500 0.053269432378068374\n",
            "Cost at iteration 17000 0.053263949327055776\n",
            "Cost at iteration 17500 0.053258774332101744\n",
            "Cost at iteration 18000 0.053253881604424326\n",
            "Cost at iteration 18500 0.05324924822593129\n",
            "Cost at iteration 19000 0.053244853748447174\n",
            "Cost at iteration 19500 0.05324067986044415\n",
            "method : batch , Times : 1.1282696723937988 s\n",
            "=========Classification report=======\n",
            "Report:                precision    recall  f1-score   support\n",
            "\n",
            "           0       1.00      1.00      1.00        15\n",
            "           1       0.89      0.89      0.89        19\n",
            "           2       0.82      0.82      0.82        11\n",
            "\n",
            "    accuracy                           0.91        45\n",
            "   macro avg       0.90      0.90      0.90        45\n",
            "weighted avg       0.91      0.91      0.91        45\n",
            "\n"
          ],
          "name": "stdout"
        },
        {
          "output_type": "execute_result",
          "data": {
            "text/plain": [
              "(array([[-2.81196989,  7.1571693 , -3.4549431 ],\n",
              "        [-7.79990034,  1.40170294,  7.71651237],\n",
              "        [-7.83825563, -1.39945543, 10.51414946]]), 19999)"
            ]
          },
          "metadata": {},
          "execution_count": 6
        },
        {
          "output_type": "display_data",
          "data": {
            "image/png": "[encoded data removed]",
            "text/plain": [
              "<Figure size 432x288 with 1 Axes>"
            ]
          },
          "metadata": {
            "needs_background": "light"
          }
        }
      ]
    },
    {
      "cell_type": "code",
      "metadata": {
        "colab": {
          "base_uri": "https://localhost:8080/",
          "height": 1000
        },
        "id": "Cr8hfXxWBvN-",
        "outputId": "26743e4a-5d91-44ff-f67d-b271cd71e01b"
      },
      "source": [
        "model=LogisticRegression(method='mini_batch')\n",
        "model.logistic_regression_GD(X_train, Y_train_encoded, k, X_train.shape[1])"
      ],
      "execution_count": 7,
      "outputs": [
        {
          "output_type": "stream",
          "text": [
            "Cost at iteration 0 1.0964371201366008\n",
            "Cost at iteration 500 0.08572974794766368\n",
            "Cost at iteration 1000 0.0831191711883846\n",
            "Cost at iteration 1500 0.0394920968826066\n",
            "Cost at iteration 2000 0.09887987198834343\n",
            "Cost at iteration 2500 0.08341907175321207\n",
            "Cost at iteration 3000 0.12879119547972978\n",
            "Cost at iteration 3500 0.017246292248693378\n",
            "Cost at iteration 4000 0.04307485299358744\n",
            "Cost at iteration 4500 0.09455661108745421\n",
            "Cost at iteration 5000 0.111637746151077\n",
            "Cost at iteration 5500 0.04622303640789552\n",
            "Cost at iteration 6000 0.12136913838290576\n",
            "Cost at iteration 6500 0.1264280327583577\n",
            "Cost at iteration 7000 0.014848541756762005\n",
            "Cost at iteration 7500 0.0456022211508612\n",
            "Cost at iteration 8000 0.010950427043263485\n",
            "Cost at iteration 8500 0.1196456542825017\n",
            "Cost at iteration 9000 0.03574536278511996\n",
            "Cost at iteration 9500 0.025575040447700346\n",
            "Cost at iteration 10000 0.021931672540710104\n",
            "Cost at iteration 10500 0.0896111971452915\n",
            "Cost at iteration 11000 0.024609896670940733\n",
            "Cost at iteration 11500 0.011340791699735677\n",
            "Cost at iteration 12000 0.03424350773652026\n",
            "Cost at iteration 12500 0.032432726672588286\n",
            "Cost at iteration 13000 0.014811897182224507\n",
            "Cost at iteration 13500 0.03746096466165105\n",
            "Cost at iteration 14000 0.11409961309460458\n",
            "Cost at iteration 14500 0.04065507307365752\n",
            "Cost at iteration 15000 0.02284630641787448\n",
            "Cost at iteration 15500 0.0215942031690044\n",
            "Cost at iteration 16000 0.08247477965298117\n",
            "Cost at iteration 16500 0.09184757597917666\n",
            "Cost at iteration 17000 0.13093708550182695\n",
            "Cost at iteration 17500 0.036130269199459816\n",
            "Cost at iteration 18000 0.012684132336265273\n",
            "Cost at iteration 18500 0.07981798784386537\n",
            "Cost at iteration 19000 0.013897529272503609\n",
            "Cost at iteration 19500 0.16698681126021714\n",
            "method : mini_batch , Times : 2.957003116607666 s\n",
            "=========Classification report=======\n",
            "Report:                precision    recall  f1-score   support\n",
            "\n",
            "           0       1.00      1.00      1.00        15\n",
            "           1       0.89      0.89      0.89        19\n",
            "           2       0.82      0.82      0.82        11\n",
            "\n",
            "    accuracy                           0.91        45\n",
            "   macro avg       0.90      0.90      0.90        45\n",
            "weighted avg       0.91      0.91      0.91        45\n",
            "\n"
          ],
          "name": "stdout"
        },
        {
          "output_type": "execute_result",
          "data": {
            "text/plain": [
              "(array([[-1.37481275,  6.35888263, -3.59405256],\n",
              "        [-6.55153392,  1.12813574,  6.71951992],\n",
              "        [-6.42672634, -2.03517608,  9.28682882]]), 19999)"
            ]
          },
          "metadata": {},
          "execution_count": 7
        },
        {
          "output_type": "display_data",
          "data": {
            "image/png": "[encoded data removed]",
            "text/plain": [
              "<Figure size 432x288 with 1 Axes>"
            ]
          },
          "metadata": {
            "needs_background": "light"
          }
        }
      ]
    },
    {
      "cell_type": "code",
      "metadata": {
        "colab": {
          "base_uri": "https://localhost:8080/",
          "height": 1000
        },
        "id": "jMFb_qXzArWF",
        "outputId": "7d0ad50b-e4d0-4129-ff50-7d45aa596e1a"
      },
      "source": [
        "model=LogisticRegression(method='sto')\n",
        "model.logistic_regression_GD(X_train, Y_train_encoded, k, X_train.shape[1])"
      ],
      "execution_count": 8,
      "outputs": [
        {
          "output_type": "stream",
          "text": [
            "Cost at iteration 0 1.5266012068221364\n",
            "Cost at iteration 500 0.22319539426848037\n",
            "Cost at iteration 1000 0.4313613378146686\n",
            "Cost at iteration 1500 0.20642242818872258\n",
            "Cost at iteration 2000 0.05858937975513677\n",
            "Cost at iteration 2500 0.06606801497844968\n",
            "Cost at iteration 3000 0.33709659645522577\n",
            "Cost at iteration 3500 0.051000049919370107\n",
            "Cost at iteration 4000 0.04286076526200763\n",
            "Cost at iteration 4500 0.04138326144106186\n",
            "Cost at iteration 5000 0.008228782983593539\n",
            "Cost at iteration 5500 0.017067480526067946\n",
            "Cost at iteration 6000 0.1648187559339534\n",
            "Cost at iteration 6500 0.03201888548521886\n",
            "Cost at iteration 7000 0.21024356019754364\n",
            "Cost at iteration 7500 0.10985649406096795\n",
            "Cost at iteration 8000 0.08159237231437833\n",
            "Cost at iteration 8500 0.3546475352758604\n",
            "Cost at iteration 9000 0.019240346227598206\n",
            "Cost at iteration 9500 0.3309256504461279\n",
            "Cost at iteration 10000 0.028027910215416747\n",
            "Cost at iteration 10500 0.2642891272899591\n",
            "Cost at iteration 11000 0.4768720592729133\n",
            "Cost at iteration 11500 0.10725663374182695\n",
            "Cost at iteration 12000 0.06403526176751959\n",
            "Cost at iteration 12500 0.012093796393953759\n",
            "Cost at iteration 13000 0.018571569913330272\n",
            "Cost at iteration 13500 0.021792237021110526\n",
            "Cost at iteration 14000 0.4450932776387207\n",
            "Cost at iteration 14500 0.002618093283177456\n",
            "Cost at iteration 15000 0.21585153540307772\n",
            "Cost at iteration 15500 0.2685890763158822\n",
            "Cost at iteration 16000 0.03877620490064912\n",
            "Cost at iteration 16500 0.06363259487319005\n",
            "Cost at iteration 17000 0.057363777974445126\n",
            "Cost at iteration 17500 0.05522171382156061\n",
            "Cost at iteration 18000 0.01021276791305694\n",
            "Cost at iteration 18500 0.2118996953880401\n",
            "Cost at iteration 19000 0.006321006129758257\n",
            "Cost at iteration 19500 0.03175672330011653\n",
            "method : sto , Times : 0.7404096126556396 s\n",
            "=========Classification report=======\n",
            "Report:                precision    recall  f1-score   support\n",
            "\n",
            "           0       1.00      1.00      1.00        15\n",
            "           1       0.89      0.89      0.89        19\n",
            "           2       0.82      0.82      0.82        11\n",
            "\n",
            "    accuracy                           0.91        45\n",
            "   macro avg       0.90      0.90      0.90        45\n",
            "weighted avg       0.91      0.91      0.91        45\n",
            "\n"
          ],
          "name": "stdout"
        },
        {
          "output_type": "execute_result",
          "data": {
            "text/plain": [
              "(array([[-0.42627884,  3.37876065, -1.15711018],\n",
              "        [-3.05571379,  1.17623   ,  3.85808936],\n",
              "        [-2.6348961 , -0.47346757,  4.71961251]]), 19999)"
            ]
          },
          "metadata": {},
          "execution_count": 8
        },
        {
          "output_type": "display_data",
          "data": {
            "image/png": "[encoded data removed]",
            "text/plain": [
              "<Figure size 432x288 with 1 Axes>"
            ]
          },
          "metadata": {
            "needs_background": "light"
          }
        }
      ]
    }
  ]
}