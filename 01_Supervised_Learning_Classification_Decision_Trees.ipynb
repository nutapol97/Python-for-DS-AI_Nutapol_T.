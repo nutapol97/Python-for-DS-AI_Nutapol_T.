{
  "nbformat": 4,
  "nbformat_minor": 0,
  "metadata": {
    "colab": {
      "name": "01 - Supervised Learning - Classification - Decision Trees.ipynb",
      "provenance": [],
      "authorship_tag": "ABX9TyNBOoPGg7KqJW9y5sk/F5Qq",
      "include_colab_link": true
    },
    "kernelspec": {
      "name": "python3",
      "display_name": "Python 3"
    },
    "language_info": {
      "name": "python"
    }
  },
  "cells": [
    {
      "cell_type": "markdown",
      "metadata": {
        "id": "view-in-github",
        "colab_type": "text"
      },
      "source": [
        "<a href=\"https://colab.research.google.com/github/nutapol97/Python-for-DS-AI_Nutapol_T./blob/main/01_Supervised_Learning_Classification_Decision_Trees.ipynb\" target=\"_parent\"><img src=\"https://colab.research.google.com/assets/colab-badge.svg\" alt=\"Open In Colab\"/></a>"
      ]
    },
    {
      "cell_type": "code",
      "metadata": {
        "id": "0VtRmFp-6VPv"
      },
      "source": [
        "import matplotlib.pyplot as plt\n",
        "import numpy as np\n",
        "from numpy.random import default_rng\n",
        "from numpy import linalg\n",
        "from sklearn.metrics import accuracy_score\n",
        "def train_test(X,Y,size):\n",
        "  rng = default_rng()\n",
        "  SizeTrain=int((size*X.shape[0]))\n",
        "  random_np=rng.choice(X.shape[0], size=SizeTrain, replace=False)\n",
        "  X_test=X[random_np,:]\n",
        "  y_test=Y[random_np,]\n",
        "  Y_train=np.delete(Y, random_np,axis=0)\n",
        "  X_train=np.delete(X, random_np,axis=0)\n",
        "  Y_train=Y_train.reshape(Y_train.shape[0],)\n",
        "  y_test=y_test.reshape(y_test.shape[0],)\n",
        "  return X_train,X_test,Y_train,y_test\n",
        "class Node:\n",
        "    def __init__(self, predicted_class):\n",
        "        self.predicted_class = predicted_class\n",
        "        self.feature_index = 0\n",
        "        self.threshold = 0\n",
        "        self.left = None\n",
        "        self.right = None\n",
        "\n",
        "class DecisionTree:\n",
        "    def __init__(self, max_depth=None):\n",
        "        self.max_depth = max_depth\n",
        "\n",
        "    def predict(self, X):\n",
        "        return [self._predict(inputs) for inputs in X]\n",
        "\n",
        "    def _predict(self, inputs):\n",
        "        node = self.tree_\n",
        "        while node.left:\n",
        "            if inputs[node.feature_index] < node.threshold:\n",
        "                node = node.left\n",
        "            else:\n",
        "                node = node.right\n",
        "        return node.predicted_class\n",
        "    def fit(self, X, y):\n",
        "        self.n_classes = len(set(y))\n",
        "        self.n_features_ = X.shape[1]\n",
        "        self.tree_ = self.grow_tree(X, y)\n",
        "    def best_split(self, X, y):\n",
        "        m = y.size\n",
        "        if m <= 1:\n",
        "            return None, None\n",
        "        num_parent = [np.sum(y == c) for c in range(self.n_classes)]\n",
        "        best_gini = 1.0 - sum((n / m) ** 2 for n in num_parent)\n",
        "        best_idx, best_thr = None, None  \n",
        "        for idx in range(self.n_features_):\n",
        "            thresholds, classes = zip(*sorted(zip(X[:, idx], y)))\n",
        "            num_left = [0] * self.n_classes\n",
        "            num_right = num_parent.copy()\n",
        "            for i in range(1, m):\n",
        "                c = classes[i - 1]\n",
        "                num_left[c] += 1\n",
        "                num_right[c] -= 1\n",
        "                gini_left = 1.0 - sum(\n",
        "                    (num_left[x] / i) ** 2 for x in range(self.n_classes))\n",
        "                gini_right = 1.0 - sum(\n",
        "                    (num_right[x] / (m - i)) ** 2 for x in range(self.n_classes))\n",
        "                gini = (i * gini_left + (m - i) * gini_right) / m\n",
        "                if thresholds[i] == thresholds[i - 1]:\n",
        "                    continue\n",
        "                if gini < best_gini:\n",
        "                    best_gini = gini\n",
        "                    best_idx = idx\n",
        "                    best_thr = (thresholds[i] + thresholds[i - 1]) / 2\n",
        "        return best_idx, best_thr\n",
        "    def grow_tree(self, X, y, depth=0):\n",
        "          num_samples_per_class = [np.sum(y == i) for i in range(self.n_classes)]\n",
        "          predicted_class = np.argmax(num_samples_per_class)\n",
        "          node = Node(predicted_class=predicted_class)\n",
        "          if depth < self.max_depth:\n",
        "              idx,  thr = self.best_split(X, y)\n",
        "              if idx is not None:\n",
        "                  indices_left = X[:, idx] < thr\n",
        "                  X_left, y_left = X[indices_left], y[indices_left]\n",
        "                  X_right, y_right = X[~indices_left], y[~indices_left]\n",
        "                  node.feature_index = idx\n",
        "                  node.threshold = thr\n",
        "                  node.left = self.grow_tree(X_left, y_left, depth + 1)\n",
        "                  node.right = self.grow_tree(X_right, y_right, depth + 1)\n",
        "          return node\n",
        "    def acc_decisiton_trees(self,X_test,y_test):\n",
        "      ypredic=model.predict(X_test)\n",
        "      acc=accuracy_score(y_test, ypredic)\n",
        "      return acc\n",
        " \n",
        "\n",
        "\n",
        "\n",
        "\n",
        "    \n",
        "    \n",
        "     \n",
        "   \n",
        "\n",
        "   \n",
        "   \n",
        "   \n",
        "    \n",
        "    "
      ],
      "execution_count": 1,
      "outputs": []
    },
    {
      "cell_type": "code",
      "metadata": {
        "colab": {
          "base_uri": "https://localhost:8080/"
        },
        "id": "J4Tpr_SK6X-3",
        "outputId": "9b63178f-f458-4deb-d917-d38035c94f89"
      },
      "source": [
        "if __name__ == \"__main__\":\n",
        "    import sys\n",
        "    from sklearn.datasets import load_iris\n",
        "\n",
        "    dataset = load_iris()\n",
        "    X, y = dataset.data, dataset.target\n",
        "    X_train, X_test, y_train, y_test = train_test(X, y,0.2)\n",
        "\n",
        "    model = DecisionTree(max_depth=10)\n",
        "    model.fit(X_train, y_train)\n",
        "    ypredic=model.predict(X_test)\n",
        "    acc=model.acc_decisiton_trees(X_test,y_test)\n",
        "    print('accuracy of model : {0}'.format(acc))\n",
        "    print('prediction :{0} '.format(ypredic))\n",
        "    "
      ],
      "execution_count": 2,
      "outputs": [
        {
          "output_type": "stream",
          "name": "stdout",
          "text": [
            "accuracy of model : 0.9666666666666667\n",
            "prediction :[1, 1, 1, 1, 2, 2, 0, 0, 0, 0, 1, 2, 2, 1, 2, 0, 0, 2, 2, 0, 2, 1, 1, 2, 2, 0, 0, 2, 0, 0] \n"
          ]
        }
      ]
    }
  ]
}